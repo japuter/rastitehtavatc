{
 "cells": [
  {
   "cell_type": "markdown",
   "metadata": {},
   "source": [
    "https://docs.google.com/document/d/1qRNc0ro4BGUvdJg8EebIQkT6bm5esGE4-xsovTGVYPI/edit?tab=t.0 "
   ]
  }
 ],
 "metadata": {
  "language_info": {
   "name": "python"
  }
 },
 "nbformat": 4,
 "nbformat_minor": 2
}
